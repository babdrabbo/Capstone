{
 "cells": [
  {
   "cell_type": "code",
   "execution_count": 1,
   "metadata": {},
   "outputs": [],
   "source": [
    "import os, sys\n",
    "import json\n",
    "import numpy as np\n",
    "import re\n",
    "from matplotlib import pyplot as plt\n",
    "from matplotlib import colors\n",
    "import glob\n",
    "from collections import defaultdict\n",
    "import random\n",
    "%matplotlib inline "
   ]
  },
  {
   "cell_type": "markdown",
   "metadata": {},
   "source": [
    "# plot_task"
   ]
  },
  {
   "cell_type": "code",
   "execution_count": 2,
   "metadata": {},
   "outputs": [],
   "source": [
    "cmap = colors.ListedColormap(\n",
    "        ['#FFFFFF', '#000000', '#0074D9','#FF4136','#2ECC40','#FFDC00',\n",
    "         '#AAAAAA', '#F012BE', '#FF851B', '#7FDBFF', '#870C25'])\n",
    "norm = colors.Normalize(vmin=0, vmax=9)\n",
    "\n",
    "### Function to initialize an axis ###\n",
    "######################################\n",
    "def initAxis(ax, data, title):\n",
    "    offSet = -.5 # Set offset value (for bug)\n",
    "    ax.grid() # Show grid\n",
    "    ax.set_xticklabels([]) # Remove x labels\n",
    "    ax.set_yticklabels([]) # Remove y labels\n",
    "    shape = np.asarray(data).shape # Get shape \n",
    "    ax.set_xticks(np.arange(offSet, shape[1]))\n",
    "    ax.set_yticks(np.arange(offSet, shape[0]))\n",
    "    ax.set_title(title + \"\\nShape: \" + str(shape))\n",
    "    ax.set_xlabel(shape[1]) # Set x label\n",
    "    ylbl = ax.set_ylabel(shape[0]) # Set y label\n",
    "    ylbl.set_rotation(0) # Reset y label rotation\n",
    "    ax.tick_params(length=0) # Set tick size to zero\n",
    "    ax.imshow(data+1, cmap=cmap, norm=norm) # Show plot\n",
    "    \n",
    "def plot_img(img, title=''):\n",
    "    fig, axs = plt.subplots(1, 1)\n",
    "    initAxis(axs, img, title)\n",
    "    plt.tight_layout(pad=3.0)\n",
    "    plt.show()\n",
    "    \n",
    "### Function to plot a task ###\n",
    "###############################\n",
    "def plot_task(task):\n",
    "    \"\"\"\n",
    "    Plots the first train and test pairs of a specified task,\n",
    "    using same color scheme as the ARC app\n",
    "    \"\"\"\n",
    "    #\n",
    "    fig, axs = plt.subplots(1, 4, figsize=(15,10))\n",
    "    # Train input/output\n",
    "    trnIn = task['train'][0]['input']\n",
    "    trnOut = task['train'][0]['output']\n",
    "    initAxis(axs[0], trnIn, 'Train Input')\n",
    "    initAxis(axs[1], trnOut, 'Train Output')\n",
    "    #\n",
    "    # Test input/output\n",
    "    tstIn = task['test'][0]['input']\n",
    "    tstOut = task['test'][0]['output']\n",
    "    initAxis(axs[2], tstIn, 'Test Input')\n",
    "    initAxis(axs[3], tstOut, 'Test Output')\n",
    "    #\n",
    "    plt.tight_layout(pad=3.0)\n",
    "    plt.show()"
   ]
  },
  {
   "cell_type": "code",
   "execution_count": 3,
   "metadata": {},
   "outputs": [],
   "source": [
    "def task_id(filename):\n",
    "    return os.path.splitext(os.path.basename(filename))[0]"
   ]
  },
  {
   "cell_type": "code",
   "execution_count": 4,
   "metadata": {
    "scrolled": true
   },
   "outputs": [],
   "source": [
    "# files = glob.glob(\"../data/training/*.json\")\n",
    "# for task_file in files:\n",
    "#     with open(task_file, 'r') as f:\n",
    "#         task = json.load(f)\n",
    "#         print(f'{task_id(task_file)}:')\n",
    "#         plot_task(task)\n",
    "#         plt.close()"
   ]
  },
  {
   "cell_type": "markdown",
   "metadata": {},
   "source": [
    "# TestKit"
   ]
  },
  {
   "cell_type": "code",
   "execution_count": 5,
   "metadata": {},
   "outputs": [],
   "source": [
    "def test_task(ID, solve_fn):\n",
    "    task_filename = f'./data/training/{ID}.json'\n",
    "    with open(task_filename, 'r') as file:\n",
    "        task = json.load(file)\n",
    "    inputs = [task['train'][i]['input'] for i in range(len(task['train']))]\n",
    "    inputs += [task['test'][i]['input'] for i in range(len(task['test']))]\n",
    "    for inimg in inputs:\n",
    "        inimg = np.array(inimg)\n",
    "        outimg = solve_fn(inimg)\n",
    "        plot_img(inimg)\n",
    "        plot_img(outimg)"
   ]
  },
  {
   "cell_type": "code",
   "execution_count": 6,
   "metadata": {},
   "outputs": [],
   "source": [
    "def get_an_in_img(ID):\n",
    "    task_filename = f'../data/training/{ID}.json'\n",
    "    with open(task_filename, 'r') as file:\n",
    "        task = json.load(file)\n",
    "    inputs = [task['train'][i]['input'] for i in range(len(task['train']))]\n",
    "    return np.array(random.choice(inputs))"
   ]
  },
  {
   "cell_type": "markdown",
   "metadata": {},
   "source": [
    "# OpKit"
   ]
  },
  {
   "cell_type": "code",
   "execution_count": 7,
   "metadata": {},
   "outputs": [],
   "source": [
    "\n",
    "def img_create(h, w, color=0):\n",
    "    return np.full((h, w), fill_value=color, dtype=int)\n",
    "\n",
    "\n",
    "def img_overlay(base, overlay, pos=(0, 0)):\n",
    "    underlay = base[pos[0]:pos[0] + overlay.shape[0],\n",
    "                    pos[1]:pos[1] + overlay.shape[1]]\n",
    "    overlay = np.where(overlay == -1, underlay, overlay)\n",
    "    base[pos[0]:pos[0] + overlay.shape[0],\n",
    "         pos[1]:pos[1] + overlay.shape[1]] = overlay\n",
    "\n",
    "def img_overlay_color(base, overlay_mask, pos=(0, 0), color=None):\n",
    "    underlay = base[pos[0]:pos[0] + overlay_mask.shape[0],\n",
    "                    pos[1]:pos[1] + overlay_mask.shape[1]]\n",
    "    overlay = np.where(overlay_mask == -1, \n",
    "                       underlay, \n",
    "                       img_create(*overlay_mask.shape, color=color if color else img_major_color(base)))\n",
    "    base[pos[0]:pos[0] + overlay.shape[0],\n",
    "         pos[1]:pos[1] + overlay.shape[1]] = overlay\n",
    "\n",
    "\n",
    "def img_hist(img):\n",
    "    d = defaultdict(int)\n",
    "    for i, j in np.ndindex(img.shape):\n",
    "        d[img[i, j]] += 1\n",
    "    return dict(d)\n",
    "\n",
    "\n",
    "def img_major_color(img):\n",
    "    hist = img_hist(img)\n",
    "    return max(hist, key=hist.get)\n",
    "\n",
    "\n",
    "def img_subimg(img, ulc, lrc):\n",
    "    return img[ulc[0]:lrc[0]+1, ulc[1]:lrc[1]+1]\n",
    "\n",
    "\n",
    "def img_interest_area(img, bgc=None):\n",
    "    mc = img_major_color(img) if bgc is None else bgc\n",
    "    foreground = np.where(img != mc)\n",
    "    return (min(foreground[0], default=0), min(foreground[1], default=0)), (max(foreground[0], default=0), max(foreground[1], default=0))\n",
    "\n",
    "\n",
    "def img_colors(img):\n",
    "    return set(img_hist(img).keys())\n",
    "\n",
    "\n",
    "def img_filter(img, color, bg_color=None):\n",
    "    bgc = bg_color if bg_color is not None else img_major_color(img)\n",
    "    return np.vectorize(lambda c: c if c == color else bgc)(img)\n",
    "\n",
    "\n",
    "def img_color_density(img, color):\n",
    "    fimg = img_filter(img, color)\n",
    "    ulc, lrc = img_interest_area(fimg)\n",
    "    area = abs(ulc[0] - lrc[0]) * abs(ulc[1] - lrc[1])\n",
    "    count = img_hist(img).get(color, 0)\n",
    "    return count / area\n",
    "\n",
    "\n",
    "def img_unicolor_objs(img):\n",
    "    objs_colors = img_colors(img)\n",
    "    objs_colors.remove(img_major_color(img))\n",
    "    for obj_color in objs_colors:\n",
    "        fimg = img_filter(img, obj_color)\n",
    "        yield img_subimg(fimg, *img_interest_area(fimg))\n",
    "\n",
    "\n",
    "def img_clear_color(img, color):\n",
    "    return np.vectorize(lambda c: -1 if c == color else c)(img)\n",
    "\n",
    "\n",
    "        \n"
   ]
  },
  {
   "cell_type": "markdown",
   "metadata": {},
   "source": [
    "# Task 67e8384a"
   ]
  },
  {
   "cell_type": "code",
   "execution_count": 8,
   "metadata": {},
   "outputs": [],
   "source": [
    "def solve_67e8384a(inimg):\n",
    "    outimg = img_create(inimg.shape[0]*2, inimg.shape[1]*2)\n",
    "    \n",
    "    overlay = inimg\n",
    "    img_overlay(outimg, overlay, pos=(0, 0))\n",
    "    overlay = np.flipud(overlay)\n",
    "    img_overlay(outimg, overlay, pos=(inimg.shape[0], 0))\n",
    "    overlay = np.fliplr(overlay)\n",
    "    img_overlay(outimg, overlay, pos=(inimg.shape[0], inimg.shape[1]))\n",
    "    overlay = np.flipud(overlay)\n",
    "    img_overlay(outimg, overlay, pos=(0, inimg.shape[1]))\n",
    "    \n",
    "    return outimg"
   ]
  },
  {
   "cell_type": "code",
   "execution_count": 9,
   "metadata": {
    "scrolled": false
   },
   "outputs": [],
   "source": [
    "# test_task('67e8384a', solve_67e8384a)"
   ]
  },
  {
   "cell_type": "markdown",
   "metadata": {},
   "source": [
    "# Task 2013d3e2"
   ]
  },
  {
   "cell_type": "code",
   "execution_count": 10,
   "metadata": {},
   "outputs": [],
   "source": [
    "def solve_2013d3e2(inimg):\n",
    "    obj = img_subimg(inimg, *img_interest_area(inimg))\n",
    "    return obj[:obj.shape[0]//2, :obj.shape[1]//2]"
   ]
  },
  {
   "cell_type": "code",
   "execution_count": 11,
   "metadata": {},
   "outputs": [],
   "source": [
    "# test_task('2013d3e2', solve_2013d3e2)"
   ]
  },
  {
   "cell_type": "markdown",
   "metadata": {},
   "source": [
    "# Task 5ad4f10b"
   ]
  },
  {
   "cell_type": "code",
   "execution_count": 12,
   "metadata": {},
   "outputs": [],
   "source": [
    "def solve_5ad4f10b(img):\n",
    "    \n",
    "    def _divs(n, m):\n",
    "        return [1] if m==1 else (_divs(n, m-1) + ([m] if n % m == 0 else []))\n",
    "\n",
    "    def divs(n):\n",
    "        for x in _divs(n, n-1): yield x\n",
    "\n",
    "    bgc = img_major_color(img)\n",
    "    colors = img_colors(img)\n",
    "    colors.remove(bgc)\n",
    "    colors = sorted(list(map(lambda c: (c, img_color_density(img, c)), colors)), key=lambda e: e[1], reverse=True)\n",
    "    obj_color = colors[0][0]\n",
    "    pigment = colors[1][0]\n",
    "\n",
    "    fimg = img_filter(img, obj_color)\n",
    "    obj = img_subimg(fimg, *img_interest_area(fimg))\n",
    "\n",
    "    tile_sides = list(set(list(divs(obj.shape[0])) + list(divs(obj.shape[1]))))\n",
    "    new_obj = []\n",
    "    for t in reversed(tile_sides):\n",
    "        new_obj = img_create(obj.shape[0]//t, obj.shape[1]//t)\n",
    "        unicolor = True\n",
    "        for i in range(0, obj.shape[0], t):\n",
    "            for j in range(0, obj.shape[1], t):\n",
    "                h = img_hist(img_subimg(obj, (i, j), (i+t-1, j+t-1)))\n",
    "                unicolor = len(h) == 1\n",
    "                if unicolor:\n",
    "                    uc = list(h.keys())[0]\n",
    "                    new_obj[(i//t), (j//t)] = pigment if uc == obj_color else bgc\n",
    "                else: break\n",
    "            if not unicolor: break\n",
    "        if unicolor: break\n",
    "\n",
    "    return new_obj"
   ]
  },
  {
   "cell_type": "code",
   "execution_count": 13,
   "metadata": {},
   "outputs": [],
   "source": [
    "# test_task('5ad4f10b', solve_5ad4f10b)"
   ]
  },
  {
   "cell_type": "markdown",
   "metadata": {},
   "source": [
    "# Task c8cbb738"
   ]
  },
  {
   "cell_type": "code",
   "execution_count": 14,
   "metadata": {},
   "outputs": [],
   "source": [
    "def solve_c8cbb738(img):\n",
    "    bgc = img_major_color(img)\n",
    "    objs = img_unicolor_objs(img)\n",
    "    objs = list(map(lambda obj: img_clear_color(obj, bgc), objs))\n",
    "    objs_sizes = (obj.shape for obj in objs)\n",
    "    combined_size = tuple(map(lambda t: max(t), zip(*objs_sizes)))\n",
    "    outimg = img_create(combined_size[0], combined_size[1], bgc)\n",
    "    for obj in objs:\n",
    "        centering_pos = tuple((np.array(outimg.shape) - np.array(obj.shape)) // 2)\n",
    "        img_overlay(outimg, obj, centering_pos)\n",
    "    return outimg"
   ]
  },
  {
   "cell_type": "code",
   "execution_count": 15,
   "metadata": {
    "scrolled": false
   },
   "outputs": [],
   "source": [
    "# test_task('c8cbb738', solve_c8cbb738)"
   ]
  },
  {
   "cell_type": "markdown",
   "metadata": {},
   "source": [
    "# Task 681b3aeb"
   ]
  },
  {
   "cell_type": "code",
   "execution_count": 16,
   "metadata": {},
   "outputs": [],
   "source": [
    "def solve_681b3aeb(img):\n",
    "    \n",
    "    def conv_overlay(img1, img2):\n",
    "        for i in range(-img2.shape[0], img1.shape[0] + 1):\n",
    "            for j in range(-img2.shape[1], img1.shape[1] + 1):\n",
    "                index = np.array((i, j))\n",
    "                f = np.where((index < 0), (img2.shape + index), (img1.shape - index))\n",
    "                intersection = np.array(list(map(min, zip(img1.shape, img2.shape, f))))\n",
    "                out_size = np.array(img1.shape) + np.array(img2.shape) - intersection\n",
    "                outimg = img_create(*out_size, color=-1)\n",
    "                pos1 = tuple(np.where(index < 0, -index, 0))\n",
    "                pos2 = tuple(np.where(index < 0, 0, index))\n",
    "                img_overlay(outimg, img1, pos1)\n",
    "                img_overlay(outimg, img2, pos2)\n",
    "                yield outimg\n",
    "\n",
    "    def does_match(img, objs):\n",
    "        if(len(img_hist(img).keys()) > 2):\n",
    "            return False\n",
    "        else:\n",
    "            for obj in objs:\n",
    "                colors = img_hist(obj)\n",
    "                colors.pop(-1, 0)\n",
    "                obj_color = list(colors.keys())[0]\n",
    "                fimg = img_filter(img, color=obj_color, bg_color=-1)\n",
    "                fobj = img_subimg(fimg, *img_interest_area(fimg, bgc=-1))\n",
    "                if(not np.array_equal(obj, fobj)):\n",
    "                    return False\n",
    "\n",
    "        return True\n",
    "    \n",
    "    bgc = img_major_color(img)\n",
    "    objs = img_unicolor_objs(img)\n",
    "    objs = list(map(lambda obj: img_clear_color(obj, bgc), objs))\n",
    "    for im in conv_overlay(*objs):\n",
    "        if(does_match(im, objs)):\n",
    "            return im"
   ]
  },
  {
   "cell_type": "code",
   "execution_count": 17,
   "metadata": {
    "scrolled": false
   },
   "outputs": [],
   "source": [
    "# test_task('681b3aeb', solve_681b3aeb)"
   ]
  },
  {
   "cell_type": "markdown",
   "metadata": {},
   "source": [
    "# Task d4a91cb9"
   ]
  },
  {
   "cell_type": "code",
   "execution_count": 18,
   "metadata": {},
   "outputs": [],
   "source": [
    "def solve_d4a91cb9(img):\n",
    "    pass"
   ]
  },
  {
   "cell_type": "code",
   "execution_count": 19,
   "metadata": {},
   "outputs": [
    {
     "ename": "FileNotFoundError",
     "evalue": "[Errno 2] No such file or directory: '../data/training/d4a91cb9.json'",
     "output_type": "error",
     "traceback": [
      "\u001b[0;31m---------------------------------------------------------------------------\u001b[0m",
      "\u001b[0;31mFileNotFoundError\u001b[0m                         Traceback (most recent call last)",
      "\u001b[0;32m<ipython-input-19-ca178e15c353>\u001b[0m in \u001b[0;36m<module>\u001b[0;34m\u001b[0m\n\u001b[0;32m----> 1\u001b[0;31m \u001b[0mimg\u001b[0m \u001b[0;34m=\u001b[0m \u001b[0mget_an_in_img\u001b[0m\u001b[0;34m(\u001b[0m\u001b[0;34m'd4a91cb9'\u001b[0m\u001b[0;34m)\u001b[0m\u001b[0;34m\u001b[0m\u001b[0;34m\u001b[0m\u001b[0m\n\u001b[0m\u001b[1;32m      2\u001b[0m \u001b[0mplot_img\u001b[0m\u001b[0;34m(\u001b[0m\u001b[0mimg\u001b[0m\u001b[0;34m)\u001b[0m\u001b[0;34m\u001b[0m\u001b[0;34m\u001b[0m\u001b[0m\n\u001b[1;32m      3\u001b[0m \u001b[0mval\u001b[0m\u001b[0;34m,\u001b[0m \u001b[0mval_count\u001b[0m \u001b[0;34m=\u001b[0m \u001b[0mnp\u001b[0m\u001b[0;34m.\u001b[0m\u001b[0munique\u001b[0m\u001b[0;34m(\u001b[0m\u001b[0mimg\u001b[0m\u001b[0;34m,\u001b[0m \u001b[0mreturn_counts\u001b[0m\u001b[0;34m=\u001b[0m\u001b[0;32mTrue\u001b[0m\u001b[0;34m)\u001b[0m\u001b[0;34m\u001b[0m\u001b[0;34m\u001b[0m\u001b[0m\n\u001b[1;32m      4\u001b[0m \u001b[0mlist\u001b[0m\u001b[0;34m(\u001b[0m\u001b[0mzip\u001b[0m\u001b[0;34m(\u001b[0m\u001b[0mval\u001b[0m\u001b[0;34m,\u001b[0m \u001b[0mval_count\u001b[0m\u001b[0;34m)\u001b[0m\u001b[0;34m)\u001b[0m\u001b[0;34m\u001b[0m\u001b[0;34m\u001b[0m\u001b[0m\n",
      "\u001b[0;32m<ipython-input-6-6cf05f599a13>\u001b[0m in \u001b[0;36mget_an_in_img\u001b[0;34m(ID)\u001b[0m\n\u001b[1;32m      1\u001b[0m \u001b[0;32mdef\u001b[0m \u001b[0mget_an_in_img\u001b[0m\u001b[0;34m(\u001b[0m\u001b[0mID\u001b[0m\u001b[0;34m)\u001b[0m\u001b[0;34m:\u001b[0m\u001b[0;34m\u001b[0m\u001b[0;34m\u001b[0m\u001b[0m\n\u001b[1;32m      2\u001b[0m     \u001b[0mtask_filename\u001b[0m \u001b[0;34m=\u001b[0m \u001b[0;34mf'../data/training/{ID}.json'\u001b[0m\u001b[0;34m\u001b[0m\u001b[0;34m\u001b[0m\u001b[0m\n\u001b[0;32m----> 3\u001b[0;31m     \u001b[0;32mwith\u001b[0m \u001b[0mopen\u001b[0m\u001b[0;34m(\u001b[0m\u001b[0mtask_filename\u001b[0m\u001b[0;34m,\u001b[0m \u001b[0;34m'r'\u001b[0m\u001b[0;34m)\u001b[0m \u001b[0;32mas\u001b[0m \u001b[0mfile\u001b[0m\u001b[0;34m:\u001b[0m\u001b[0;34m\u001b[0m\u001b[0;34m\u001b[0m\u001b[0m\n\u001b[0m\u001b[1;32m      4\u001b[0m         \u001b[0mtask\u001b[0m \u001b[0;34m=\u001b[0m \u001b[0mjson\u001b[0m\u001b[0;34m.\u001b[0m\u001b[0mload\u001b[0m\u001b[0;34m(\u001b[0m\u001b[0mfile\u001b[0m\u001b[0;34m)\u001b[0m\u001b[0;34m\u001b[0m\u001b[0;34m\u001b[0m\u001b[0m\n\u001b[1;32m      5\u001b[0m     \u001b[0minputs\u001b[0m \u001b[0;34m=\u001b[0m \u001b[0;34m[\u001b[0m\u001b[0mtask\u001b[0m\u001b[0;34m[\u001b[0m\u001b[0;34m'train'\u001b[0m\u001b[0;34m]\u001b[0m\u001b[0;34m[\u001b[0m\u001b[0mi\u001b[0m\u001b[0;34m]\u001b[0m\u001b[0;34m[\u001b[0m\u001b[0;34m'input'\u001b[0m\u001b[0;34m]\u001b[0m \u001b[0;32mfor\u001b[0m \u001b[0mi\u001b[0m \u001b[0;32min\u001b[0m \u001b[0mrange\u001b[0m\u001b[0;34m(\u001b[0m\u001b[0mlen\u001b[0m\u001b[0;34m(\u001b[0m\u001b[0mtask\u001b[0m\u001b[0;34m[\u001b[0m\u001b[0;34m'train'\u001b[0m\u001b[0;34m]\u001b[0m\u001b[0;34m)\u001b[0m\u001b[0;34m)\u001b[0m\u001b[0;34m]\u001b[0m\u001b[0;34m\u001b[0m\u001b[0;34m\u001b[0m\u001b[0m\n",
      "\u001b[0;31mFileNotFoundError\u001b[0m: [Errno 2] No such file or directory: '../data/training/d4a91cb9.json'"
     ]
    }
   ],
   "source": [
    "img = get_an_in_img('d4a91cb9')\n",
    "plot_img(img)\n",
    "val, val_count = np.unique(img, return_counts=True)\n",
    "list(zip(val, val_count))"
   ]
  },
  {
   "cell_type": "code",
   "execution_count": null,
   "metadata": {},
   "outputs": [],
   "source": [
    "# test_task('d4a91cb9', solve_d4a91cb9)"
   ]
  },
  {
   "cell_type": "markdown",
   "metadata": {},
   "source": [
    "# Task 6d75e8bb"
   ]
  },
  {
   "cell_type": "code",
   "execution_count": null,
   "metadata": {},
   "outputs": [],
   "source": [
    "def solve_6d75e8bb(img):\n",
    "    outimg = np.copy(img)\n",
    "    fill_color = 2\n",
    "    bgc = img_major_color(img)\n",
    "    bb = img_interest_area(img)\n",
    "    obj = img_subimg(img, *bb)\n",
    "    obj = np.where(obj == bgc, fill_color, obj)\n",
    "    img_overlay(outimg, obj, bb[0])\n",
    "    \n",
    "    return outimg"
   ]
  },
  {
   "cell_type": "code",
   "execution_count": null,
   "metadata": {
    "scrolled": false
   },
   "outputs": [],
   "source": [
    "test_task('6d75e8bb', solve_6d75e8bb)"
   ]
  },
  {
   "cell_type": "markdown",
   "metadata": {},
   "source": [
    "# Task 6a1e5592"
   ]
  },
  {
   "cell_type": "code",
   "execution_count": null,
   "metadata": {},
   "outputs": [],
   "source": [
    "def solve_6a1e5592(img):\n",
    "    pass"
   ]
  },
  {
   "cell_type": "code",
   "execution_count": null,
   "metadata": {
    "scrolled": false
   },
   "outputs": [],
   "source": [
    "# test_task('6a1e5592', solve_6a1e5592)"
   ]
  },
  {
   "cell_type": "markdown",
   "metadata": {},
   "source": [
    "# Test"
   ]
  },
  {
   "cell_type": "code",
   "execution_count": null,
   "metadata": {
    "scrolled": false
   },
   "outputs": [],
   "source": [
    "img = get_an_in_img('6a1e5592')\n",
    "plot_img(img)\n",
    "\n",
    "img = img_subimg(img, (3, 0), (img.shape[0], img.shape[1]))\n",
    "plot_img(img)\n",
    "cleared_img = img_clear_color(img, 0)\n",
    "plot_img(cleared_img)\n",
    "plot_img(img)"
   ]
  },
  {
   "cell_type": "code",
   "execution_count": null,
   "metadata": {},
   "outputs": [],
   "source": [
    "def nex_pixel_on_perimiter(img, previous, current, bgc):\n",
    "    \n",
    "\n",
    "def img_find_obj(img):\n",
    "    bgc = img_major_color(img)\n",
    "    \n",
    "\n",
    "def img_extract_objs(img):\n",
    "    pass"
   ]
  },
  {
   "cell_type": "code",
   "execution_count": null,
   "metadata": {},
   "outputs": [],
   "source": []
  }
 ],
 "metadata": {
  "kernelspec": {
   "display_name": "Python 3",
   "language": "python",
   "name": "python3"
  },
  "language_info": {
   "codemirror_mode": {
    "name": "ipython",
    "version": 3
   },
   "file_extension": ".py",
   "mimetype": "text/x-python",
   "name": "python",
   "nbconvert_exporter": "python",
   "pygments_lexer": "ipython3",
   "version": "3.8.3"
  }
 },
 "nbformat": 4,
 "nbformat_minor": 4
}
