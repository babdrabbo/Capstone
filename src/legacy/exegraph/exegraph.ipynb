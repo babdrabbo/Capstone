{
 "cells": [
  {
   "cell_type": "code",
   "execution_count": 1,
   "metadata": {},
   "outputs": [],
   "source": [
    "from exegraph import Exegraph, Constant, Operation, Outport, Inport\n",
    "from typing import List\n",
    "from collections.abc import Iterable"
   ]
  },
  {
   "cell_type": "code",
   "execution_count": 2,
   "metadata": {},
   "outputs": [],
   "source": [
    "def make_iterable(x):\n",
    "    return x if isinstance(x, Iterable) else [x]"
   ]
  },
  {
   "cell_type": "code",
   "execution_count": 3,
   "metadata": {},
   "outputs": [],
   "source": [
    "class ConstInt(Constant):\n",
    "    def __init__(self, n):\n",
    "        n = make_iterable(n)\n",
    "        super().__init__([int for _ in range(len(n))], n)\n",
    "\n",
    "class Sum(Operation):\n",
    "    def __init__(self):\n",
    "        super().__init__([int, int], [int])\n",
    "\n",
    "    def execute(self, inputs):\n",
    "        return [sum(inputs)]\n",
    "\n",
    "class Sub(Operation):\n",
    "    def __init__(self):\n",
    "        super().__init__([int, int], [int])\n",
    "\n",
    "    def execute(self, inputs):\n",
    "        return [inputs[0] - inputs[1]]\n",
    "\n",
    "class SumSub(Operation):\n",
    "    def __init__(self):\n",
    "        super().__init__([int, int], [int, int])\n",
    "\n",
    "    def execute(self, inputs):\n",
    "        return [sum(inputs), inputs[0] - inputs[1]]"
   ]
  },
  {
   "cell_type": "code",
   "execution_count": 4,
   "metadata": {},
   "outputs": [],
   "source": [
    "C1 = ConstInt(2)\n",
    "C2 = ConstInt(2)\n",
    "C3 = ConstInt(1)\n",
    "C4 = ConstInt(1)\n",
    "B1 = Sum()\n",
    "B2 = Sum()\n",
    "A1 = Sub()\n",
    "SS = SumSub()"
   ]
  },
  {
   "cell_type": "code",
   "execution_count": null,
   "metadata": {},
   "outputs": [],
   "source": []
  },
  {
   "cell_type": "code",
   "execution_count": 5,
   "metadata": {},
   "outputs": [
    {
     "data": {
      "text/plain": [
       "4"
      ]
     },
     "execution_count": 5,
     "metadata": {},
     "output_type": "execute_result"
    }
   ],
   "source": [
    "G = Exegraph()\n",
    "G.connect(C1.o[0], B1.i[0])\n",
    "G.connect(C1.o[0], B1.i[1])\n",
    "\n",
    "B1[0]"
   ]
  },
  {
   "cell_type": "code",
   "execution_count": 6,
   "metadata": {},
   "outputs": [
    {
     "data": {
      "text/plain": [
       "Sum"
      ]
     },
     "execution_count": 6,
     "metadata": {},
     "output_type": "execute_result"
    }
   ],
   "source": [
    "B1"
   ]
  },
  {
   "cell_type": "code",
   "execution_count": 7,
   "metadata": {},
   "outputs": [
    {
     "name": "stdout",
     "output_type": "stream",
     "text": [
      "Sum.i[1]\n",
      "Sum.i[0]\n"
     ]
    }
   ],
   "source": [
    "for p in G.getConnectedPorts(C1.o[0]): print(p)"
   ]
  },
  {
   "cell_type": "code",
   "execution_count": 8,
   "metadata": {},
   "outputs": [],
   "source": [
    "# G = Exegraph()\n",
    "# G.connect(C1.o[0], B1.i[0])\n",
    "# G.connect(C2.o[0], B1.i[1])\n",
    "# G.connect(C3.o[0], B2.i[0])\n",
    "# G.connect(C4.o[0], B2.i[1])\n",
    "# G.connect(B1.o[0], A1.i[0])\n",
    "# G.connect(B2.o[0], A1.i[1])\n",
    "\n",
    "# A1[0]"
   ]
  }
 ],
 "metadata": {
  "kernelspec": {
   "display_name": "Python 3.7.11 ('Capstone')",
   "language": "python",
   "name": "python3"
  },
  "language_info": {
   "codemirror_mode": {
    "name": "ipython",
    "version": 3
   },
   "file_extension": ".py",
   "mimetype": "text/x-python",
   "name": "python",
   "nbconvert_exporter": "python",
   "pygments_lexer": "ipython3",
   "version": "3.7.11"
  },
  "orig_nbformat": 4,
  "vscode": {
   "interpreter": {
    "hash": "6f42b4b32473c2dcfdbc29aa82c467684c2f8572d4f7a5ce1682eda2438c8509"
   }
  }
 },
 "nbformat": 4,
 "nbformat_minor": 2
}
