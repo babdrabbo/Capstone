{
 "cells": [
  {
   "cell_type": "code",
   "execution_count": 162,
   "metadata": {},
   "outputs": [],
   "source": [
    "import random\n",
    "import numpy as np\n",
    "from abc import ABC, abstractmethod"
   ]
  },
  {
   "cell_type": "markdown",
   "metadata": {},
   "source": [
    "### Generic Genetic Optimizer"
   ]
  },
  {
   "cell_type": "code",
   "execution_count": 451,
   "metadata": {},
   "outputs": [],
   "source": [
    "class GeneticOptimizer(ABC):\n",
    "    def __init__(self, stats_collector=None):\n",
    "        self.temp = 1.0\n",
    "        self.stats_collector = stats_collector\n",
    "    \n",
    "    @abstractmethod\n",
    "    def update_temp(self, gen, fitness):\n",
    "        pass\n",
    "\n",
    "    @abstractmethod\n",
    "    def calc_sel_percent(self):\n",
    "        pass\n",
    "\n",
    "    @abstractmethod\n",
    "    def calc_mutation_rate(self):\n",
    "        pass\n",
    "\n",
    "    @abstractmethod\n",
    "    def calc_fitness(self, population):\n",
    "        pass\n",
    "    \n",
    "    @abstractmethod\n",
    "    def breed(self, couple):\n",
    "        pass\n",
    "\n",
    "    @abstractmethod\n",
    "    def mutate(self, individual):\n",
    "        pass\n",
    "\n",
    "    def record_fitness(self, gen, fitness):\n",
    "        if self.stats_collector:\n",
    "            self.stats_collector.add_fitness(gen, fitness)\n",
    "    \n",
    "    def select(self, population, fitness, n_parents):\n",
    "        return population[np.argsort(fitness)][-n_parents:]\n",
    "\n",
    "    def crossover(self, parents, n_offsprings):\n",
    "        offsprings = np.empty((n_offsprings, *parents.shape[1:]), dtype=parents.dtype)\n",
    "        for i in range(n_offsprings):\n",
    "            couple = parents[np.random.choice(parents.shape[0], size=(2,), replace=False)]\n",
    "            offsprings[i] = self.breed(couple)\n",
    "        return offsprings\n",
    "\n",
    "    def next_generation(self, population, pop_fitness):\n",
    "        n_parents = max(2, int(population.shape[0] * self.calc_sel_percent()))\n",
    "        n_offsprings = population.shape[0] - n_parents\n",
    "        \n",
    "        adv_pop = np.empty(population.shape)\n",
    "        adv_pop[:n_parents] = self.select(population, pop_fitness, n_parents)\n",
    "        offsprings = self.crossover(adv_pop[:n_parents], n_offsprings)\n",
    "        for i in range(n_offsprings):\n",
    "            adv_pop[n_parents + i] = self.mutate(offsprings[i]) if random.random() < self.calc_mutation_rate() else offsprings[i]\n",
    "\n",
    "        return adv_pop\n",
    "\n",
    "    \n",
    "    def optimize(self, population, n_generations, temperature=1.0, fitness_threshold=1.0):\n",
    "        assert(population.shape[0] >= 3)\n",
    "        self.temp = temperature\n",
    "\n",
    "\n",
    "        for gen in range(n_generations):\n",
    "            fitness = self.calc_fitness(population)\n",
    "            self.record_fitness(gen, fitness)\n",
    "            if(np.any(fitness >= fitness_threshold)):\n",
    "                break\n",
    "            population = self.next_generation(population, fitness)\n",
    "            self.update_temp(gen, fitness)\n"
   ]
  },
  {
   "cell_type": "markdown",
   "metadata": {},
   "source": [
    "### Knapsack Genetic Optimizer"
   ]
  },
  {
   "cell_type": "code",
   "execution_count": 493,
   "metadata": {},
   "outputs": [],
   "source": [
    "class KnapsackOptimizer(GeneticOptimizer):\n",
    "    def __init__(self, weights, values, max_weight, stats_collector=None):\n",
    "        super(KnapsackOptimizer, self).__init__(stats_collector=stats_collector)\n",
    "        weight = lambda i: np.sum(weights[np.nonzero(i)])\n",
    "        value = lambda i: np.sum(values[np.nonzero(i)])\n",
    "        self.fitness = np.vectorize(\n",
    "            lambda i: value(i) if weight(i) <= max_weight else 0, signature=\"(n)->()\")\n",
    "    \n",
    "    def update_temp(self, gen, fitness):\n",
    "        return 1.0 - (gen / 100)\n",
    "\n",
    "    def calc_sel_percent(self):\n",
    "        return 1 - self.temp\n",
    "\n",
    "    def calc_mutation_rate(self):\n",
    "        return self.temp\n",
    "\n",
    "    def calc_fitness(self, population):\n",
    "        return self.fitness(population)\n",
    "    \n",
    "    def breed(self, couple):\n",
    "        crossover_point = int(couple.shape[1]/2)\n",
    "        offspring = np.copy(couple[0])\n",
    "        offspring[crossover_point:] = couple[1][crossover_point:]\n",
    "        return offspring\n",
    "\n",
    "    def mutate(self, individual):\n",
    "        mutant = np.copy(individual)\n",
    "        i = random.randint(0, individual.shape[0]-1)\n",
    "        mutant[i] = (mutant[i] + 1) % 2\n",
    "        return mutant"
   ]
  },
  {
   "cell_type": "code",
   "execution_count": 494,
   "metadata": {},
   "outputs": [],
   "source": [
    "import matplotlib.pyplot as plt\n",
    "\n",
    "class KnapsackStatsCollector:\n",
    "    def __init__(self):\n",
    "        self.fitness_log = []\n",
    "    \n",
    "    def add_fitness(self, gen, fitness):\n",
    "        self.fitness_log.append(fitness)\n",
    "    \n",
    "    def max_fit(self):\n",
    "        max_fit = []\n",
    "        for f in self.fitness_log:\n",
    "            max_fit.append(max(f))\n",
    "        return max_fit\n",
    "    \n",
    "    def avg_fit(self):\n",
    "        avg_fit = []\n",
    "        for f in self.fitness_log:\n",
    "            avg_fit.append(sum(f) / len(f))\n",
    "        return avg_fit\n",
    "    \n",
    "    def plot(self):\n",
    "        n_gens = len(self.fitness_log)\n",
    "        plt.plot(list(range(n_gens)), self.avg_fit(), label = 'Mean Fitness')\n",
    "        plt.plot(list(range(n_gens)), self.max_fit(), label = 'Max Fitness')\n",
    "        plt.legend()\n",
    "        plt.title('Fitness through the generations')\n",
    "        plt.xlabel('Generations')\n",
    "        plt.ylabel('Fitness')\n",
    "        plt.show()"
   ]
  },
  {
   "cell_type": "code",
   "execution_count": 495,
   "metadata": {},
   "outputs": [],
   "source": [
    "def as_bin_list(x, n_bits):\n",
    "    bin_list = []\n",
    "    for i in range(n_bits):\n",
    "        bin_list.append((x >> i) & 0x01)\n",
    "    bin_list.reverse()\n",
    "    return bin_list\n",
    "\n",
    "def brute_optimal_knapsack(weights, values, max_weight):\n",
    "    weight = lambda i: np.sum(weights[np.nonzero(i)])\n",
    "    value = lambda i: np.sum(values[np.nonzero(i)])\n",
    "    fit = lambda i: value(i) if weight(i) <= max_weight else 0\n",
    "    n_bits = len(weights)\n",
    "    best = 0\n",
    "    for i in range(pow(2, n_bits)):\n",
    "        best = i if fit(as_bin_list(i, n_bits)) > fit(as_bin_list(best, n_bits)) else best\n",
    "    \n",
    "    return best, value(as_bin_list(best, n_bits))\n"
   ]
  },
  {
   "cell_type": "code",
   "execution_count": 502,
   "metadata": {},
   "outputs": [
    {
     "data": {
      "image/png": "[encoded data removed]",
      "text/plain": [
       "<Figure size 432x288 with 1 Axes>"
      ]
     },
     "metadata": {
      "needs_background": "light"
     },
     "output_type": "display_data"
    },
    {
     "name": "stdout",
     "output_type": "stream",
     "text": [
      "fnd: 3345\n",
      "max: 3748\n",
      "dlt: 403\n",
      "acc: 0.8924759871931697\n"
     ]
    }
   ],
   "source": [
    "knapsack_size = 16\n",
    "pop_size = 100\n",
    "weights = np.random.randint(1, 15, size = knapsack_size)\n",
    "values = np.random.randint(10, 750, size = knapsack_size)\n",
    "max_weight = 35    #Maximum weight that the bag of thief can hold \n",
    "\n",
    "stats_collector = KnapsackStatsCollector()\n",
    "opt = KnapsackOptimizer(weights=weights, values=values, max_weight=max_weight, stats_collector=stats_collector)\n",
    "\n",
    "population = np.random.randint(2, size=(pop_size, knapsack_size))\n",
    "\n",
    "opt.optimize(population, n_generations=100, fitness_threshold=sum(values), temperature=0.1 )\n",
    "\n",
    "stats_collector.plot()\n",
    "\n",
    "fnd_value = max(stats_collector.max_fit())\n",
    "print(f'fnd: {fnd_value}')\n",
    "max_value = brute_optimal_knapsack(weights, values, max_weight)[1]\n",
    "print(f'max: {max_value}')\n",
    "print(f'dlt: {max_value - fnd_value}')\n",
    "print(f'acc: {fnd_value / max_value}')"
   ]
  },
  {
   "cell_type": "markdown",
   "metadata": {},
   "source": [
    "### "
   ]
  }
 ],
 "metadata": {
  "kernelspec": {
   "display_name": "Python 3.7.11 ('Capstone')",
   "language": "python",
   "name": "python3"
  },
  "language_info": {
   "codemirror_mode": {
    "name": "ipython",
    "version": 3
   },
   "file_extension": ".py",
   "mimetype": "text/x-python",
   "name": "python",
   "nbconvert_exporter": "python",
   "pygments_lexer": "ipython3",
   "version": "3.10.4"
  },
  "orig_nbformat": 4,
  "vscode": {
   "interpreter": {
    "hash": "6f42b4b32473c2dcfdbc29aa82c467684c2f8572d4f7a5ce1682eda2438c8509"
   }
  }
 },
 "nbformat": 4,
 "nbformat_minor": 2
}
