{
 "cells": [
  {
   "cell_type": "code",
   "execution_count": 1,
   "metadata": {},
   "outputs": [],
   "source": [
    "import sys\n",
    "import inspect\n",
    "import matplotlib.pyplot as plt\n",
    "\n",
    "sys.path.append('../src')\n",
    "# from ARCSolver.hypothesis import Hypothesis\n",
    "# from ARCSolver.core import Core\n",
    "from helpers.task import Task\n",
    "from helpers.task_vis import *\n",
    "from priors.primitives import *\n",
    "from priors.primitives_kit import *\n",
    "# from synthesis.inventory import Inventory, InventoryController\n",
    "from synthesis.genotype import GenotypeTemplate, GenotypeSolver, PrimitiveGenotype, BoundFunctor, Genotype, FirstOrderGenotype"
   ]
  },
  {
   "cell_type": "code",
   "execution_count": 2,
   "metadata": {},
   "outputs": [],
   "source": [
    "def get_task(category, id):\n",
    "    input_dir = \"../input\"\n",
    "    return Task(f'{input_dir}/{category}/{id}.json')"
   ]
  },
  {
   "cell_type": "markdown",
   "metadata": {},
   "source": [
    "### 9af7a82c"
   ]
  },
  {
   "cell_type": "code",
   "execution_count": null,
   "metadata": {},
   "outputs": [],
   "source": [
    "t = get_task(\"training\", \"9af7a82c\")\n",
    "g = t.get_examples()[1][0]\n",
    "plot_grid(g)"
   ]
  },
  {
   "cell_type": "code",
   "execution_count": null,
   "metadata": {},
   "outputs": [],
   "source": [
    "objs = PrimitivesKit.get_unicolor_objects(g)\n",
    "first_obj = PrimitivesKit.select_first(objs)\n",
    "first_obj_grid = PrimitivesKit.grid_of_obj(first_obj)\n",
    "l = PrimitivesKit.get_mass(first_obj_grid)\n",
    "w = PrimitivesKit.count(objs)\n",
    "size = PrimitivesKit.make_size(l, w)\n",
    "bg = PrimitivesKit.create_transparent_grid(size)\n",
    "\n",
    "def mapper(o):\n",
    "    g = PrimitivesKit.grid_of_obj(o)\n",
    "    mass = PrimitivesKit.get_mass(o)\n",
    "    clrs = PrimitivesKit.clrs_by_majority(g)\n",
    "    clr = PrimitivesKit.select_first(clrs)\n",
    "\n",
    "    mo = PrimitivesKit.create_unicolor_grid()\n",
    "\n",
    "new_objs = objs\n",
    "new_objs = None\n",
    "\n",
    "out = PrimitivesKit.render(bg, new_objs)\n",
    "\n",
    "\n",
    "plot_grid(out)"
   ]
  },
  {
   "cell_type": "markdown",
   "metadata": {},
   "source": [
    "## a87f7484"
   ]
  },
  {
   "cell_type": "code",
   "execution_count": null,
   "metadata": {},
   "outputs": [],
   "source": [
    "t = get_task(\"training\", \"a87f7484\")\n",
    "g = t.get_examples()[1][0]\n",
    "plot_grid(g)"
   ]
  },
  {
   "cell_type": "code",
   "execution_count": null,
   "metadata": {},
   "outputs": [],
   "source": [
    "fgclrs = PrimitivesKit.frgnd_clrs_by_majority(g)\n",
    "objs = PrimitivesKit.get_unicolor_objects(g, colors=fgclrs)\n",
    "\n",
    "\n",
    "\n",
    "for o in objs:\n",
    "    plot_grid(o)"
   ]
  },
  {
   "cell_type": "markdown",
   "metadata": {},
   "source": [
    "## 28bf18c6"
   ]
  },
  {
   "cell_type": "code",
   "execution_count": 3,
   "metadata": {},
   "outputs": [
    {
     "data": {
      "image/png": "[encoded data removed]",
      "text/plain": [
       "<Figure size 432x288 with 1 Axes>"
      ]
     },
     "metadata": {
      "needs_background": "light"
     },
     "output_type": "display_data"
    }
   ],
   "source": [
    "\n",
    "t = get_task(\"training\", \"28bf18c6\")\n",
    "g = t.get_examples()[1][0]\n",
    "plot_grid(g)"
   ]
  },
  {
   "cell_type": "code",
   "execution_count": 5,
   "metadata": {},
   "outputs": [
    {
     "data": {
      "image/png": "[encoded data removed]",
      "text/plain": [
       "<Figure size 432x288 with 1 Axes>"
      ]
     },
     "metadata": {
      "needs_background": "light"
     },
     "output_type": "display_data"
    }
   ],
   "source": [
    "fgclrs = PrimitivesKit.frgnd_clrs_by_majority(g)\n",
    "objs = PrimitivesKit.get_unicolor_objects(g, colors=fgclrs)\n",
    "objs = PrimitivesKit.duplicate_items(objs)\n",
    "objs = PrimitivesKit.stack_objs_left(objs)\n",
    "merged = PrimitivesKit.merge_objs(objs)\n",
    "\n",
    "\n",
    "plot_grid(merged)"
   ]
  }
 ],
 "metadata": {
  "kernelspec": {
   "display_name": "Python 3.7.11 ('Capstone')",
   "language": "python",
   "name": "python3"
  },
  "language_info": {
   "codemirror_mode": {
    "name": "ipython",
    "version": 3
   },
   "file_extension": ".py",
   "mimetype": "text/x-python",
   "name": "python",
   "nbconvert_exporter": "python",
   "pygments_lexer": "ipython3",
   "version": "3.10.4"
  },
  "orig_nbformat": 4,
  "vscode": {
   "interpreter": {
    "hash": "6f42b4b32473c2dcfdbc29aa82c467684c2f8572d4f7a5ce1682eda2438c8509"
   }
  }
 },
 "nbformat": 4,
 "nbformat_minor": 2
}
