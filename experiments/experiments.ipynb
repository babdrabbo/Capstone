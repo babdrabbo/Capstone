{
 "cells": [
  {
   "cell_type": "code",
   "execution_count": 1,
   "metadata": {},
   "outputs": [],
   "source": [
    "import sys\n",
    "import inspect\n",
    "import matplotlib.pyplot as plt\n",
    "\n",
    "sys.path.append('../src')\n",
    "from ARCSolver.hypothesis import Hypothesis\n",
    "from ARCSolver.core import Core\n",
    "from helpers.task import Task\n",
    "from helpers.task_vis import *\n",
    "from priors.primitives import *\n",
    "from priors.primitives_kit import *\n",
    "from synthesis.inventory import Inventory, InventoryController\n",
    "from synthesis.genotype import GenotypeTemplate, GenotypeSolver"
   ]
  },
  {
   "cell_type": "code",
   "execution_count": 2,
   "metadata": {},
   "outputs": [],
   "source": [
    "def get_task(category, id):\n",
    "    input_dir = \"../input\"\n",
    "    return Task(f'{input_dir}/{category}/{id}.json')"
   ]
  },
  {
   "cell_type": "markdown",
   "metadata": {},
   "source": [
    "## Solvers"
   ]
  },
  {
   "cell_type": "code",
   "execution_count": 3,
   "metadata": {},
   "outputs": [],
   "source": [
    "class BlindRandomFixedShapeSolver(Core):\n",
    "    def __init__(self, inventory, fixed_depth = 1, fixed_shape=(1,), max_invalid_trials=100, max_incorrect_trials=100, temperature=0.5):\n",
    "        primitives = inspect.getmembers(inventory.primitives_kit, predicate=inspect.isfunction)\n",
    "        self.n_primitives = len(primitives)\n",
    "        self.inventory = inventory\n",
    "        self.fixed_shape = fixed_shape\n",
    "        self.fixed_depth = fixed_depth\n",
    "        self.temperature = temperature\n",
    "        self.max_invalid_trials = max_invalid_trials\n",
    "        self.max_incorrect_trials = max_incorrect_trials\n",
    "        self.fts = 0\n",
    "    \n",
    "    def __study_task_examples(self, tsk: Task) -> Hypothesis:\n",
    "        ins, outs = zip(*tsk.get_examples())\n",
    "        hypothesis = None\n",
    "\n",
    "        for _ in range(self.max_incorrect_trials):\n",
    "            hypothesis = None\n",
    "            t = GenotypeTemplate(shape = self.fixed_shape, depth = self.fixed_depth, is_exact = True, signature = (PrimitivesKit.Grid, (PrimitivesKit.Grid,)) )\n",
    "            try:\n",
    "                key = None\n",
    "                for _ in range(self.max_invalid_trials):\n",
    "                    try:\n",
    "                        key = self.inventory.generate(template = t, temperature = self.temperature)\n",
    "                        if key: break\n",
    "                    except: pass\n",
    "                if key is None: raise AssertionError('Genotype Cannot be generated')\n",
    "                solver = GenotypeSolver(self.inventory[key], self.inventory)\n",
    "                hypothesis = Hypothesis(solver)\n",
    "                if hypothesis.test(ins, outs) == False: raise AssertionError('Wrong Hypothesis')\n",
    "                else: break\n",
    "            except:\n",
    "                self.fts += 1\n",
    "        \n",
    "        return hypothesis\n",
    "\n",
    "\n",
    "    def study_train_task(self, tsk: Task) -> Hypothesis:\n",
    "        hypothesis = self.__study_task_examples(tsk)\n",
    "        return hypothesis if hypothesis and hypothesis.test(tsk.get_tests(), tsk.get_solutions()) else None\n",
    "\n",
    "    def solve_test_task(self, task: Task) -> Hypothesis:\n",
    "        return self.__study_task_examples()\n",
    "\n",
    "    def get_fts(self):\n",
    "        return self.fts\n",
    "\n",
    "    def do_sleep(self):\n",
    "        ''' Reorganizes KB while asleep. '''\n",
    "        pass"
   ]
  },
  {
   "cell_type": "code",
   "execution_count": 4,
   "metadata": {},
   "outputs": [],
   "source": [
    "class BlindRandomGrowingShapeSolver(Core):\n",
    "    def __init__(self, inventory, max_size=10, max_depth=1, max_invalid_trials=100, max_incorrect_trials=100, temperature=0.5):\n",
    "        primitives = inspect.getmembers(inventory.primitives_kit, predicate=inspect.isfunction)\n",
    "        self.n_primitives = len(primitives)\n",
    "        self.inventory = inventory\n",
    "        self.max_size = max_size\n",
    "        self.max_depth = max_depth\n",
    "        self.temperature = temperature\n",
    "        self.max_invalid_trials = max_invalid_trials\n",
    "        self.max_incorrect_trials = max_incorrect_trials\n",
    "        self.fts = 0\n",
    "    \n",
    "    def __make_template(self):\n",
    "        depth = randint(1, self.max_depth)\n",
    "        shape = InventoryController.shape_of_size(randint(1, self.max_size))\n",
    "        return GenotypeTemplate(shape = shape, depth = depth, is_exact = True, signature = (PrimitivesKit.Grid, (PrimitivesKit.Grid,)) )\n",
    "    \n",
    "    def __study_task_examples(self, tsk: Task) -> Hypothesis:\n",
    "        ins, outs = zip(*tsk.get_examples())\n",
    "        hypothesis = None\n",
    "\n",
    "        for _ in range(self.max_incorrect_trials):\n",
    "            hypothesis = None\n",
    "            try:\n",
    "                key = None\n",
    "                for _ in range(self.max_invalid_trials):\n",
    "                    try:\n",
    "                        key = self.inventory.generate(template = self.__make_template(), temperature = self.temperature)\n",
    "                        if key: break\n",
    "                    except: pass\n",
    "                if key is None: raise AssertionError('Genotype Cannot be generated')\n",
    "                solver = GenotypeSolver(self.inventory[key], self.inventory)\n",
    "                hypothesis = Hypothesis(solver)\n",
    "                if hypothesis.test(ins, outs) == False: raise AssertionError('Wrong Hypothesis')\n",
    "                else: break\n",
    "            except:\n",
    "                self.fts += 1\n",
    "        \n",
    "        return hypothesis\n",
    "\n",
    "\n",
    "    def study_train_task(self, tsk: Task) -> Hypothesis:\n",
    "        hypothesis = self.__study_task_examples(tsk)\n",
    "        return hypothesis if hypothesis and hypothesis.test(tsk.get_tests(), tsk.get_solutions()) else None\n",
    "\n",
    "    def solve_test_task(self, task: Task) -> Hypothesis:\n",
    "        return self.__study_task_examples()\n",
    "\n",
    "    def get_fts(self):\n",
    "        return self.fts\n",
    "\n",
    "    def do_sleep(self):\n",
    "        ''' Reorganizes KB while asleep. '''\n",
    "        pass"
   ]
  },
  {
   "cell_type": "markdown",
   "metadata": {},
   "source": [
    "# Experiments A"
   ]
  },
  {
   "cell_type": "code",
   "execution_count": 5,
   "metadata": {},
   "outputs": [],
   "source": [
    "def copyType(C):\n",
    "    return type('CopyOfC', C.__bases__, dict(C.__dict__))\n",
    "\n",
    "def get_method_names(cls):\n",
    "    methods = inspect.getmembers(cls, predicate=inspect.isfunction)\n",
    "    return [method[0] for method in methods]\n",
    "\n",
    "def delete_methods(cls, methods):\n",
    "    for method in methods:\n",
    "        delattr(cls, method)\n",
    "\n",
    "def create_kit_variations(kit, essentials):\n",
    "    kits = []\n",
    "    method_names = list(set(get_method_names(kit)) - set(essentials))\n",
    "    for n in reversed(range(len(method_names)+1)):\n",
    "        k = copyType(kit)\n",
    "        delete_methods(k, method_names[:n])\n",
    "        kits.append(k)\n",
    "\n",
    "    return kits\n",
    "\n",
    "essential_methods = [\n",
    "    'render',\n",
    "    'create_unicolor_grid',\n",
    "    'get_size',\n",
    "    'frgnd_clrs_by_majority',\n",
    "    'select_first',\n",
    "]\n",
    "\n",
    "kits = create_kit_variations(PrimitivesKit, essentials=essential_methods)"
   ]
  },
  {
   "cell_type": "code",
   "execution_count": 6,
   "metadata": {},
   "outputs": [],
   "source": [
    "# task_A1 = get_task(\"synthetic\", \"s00\")\n",
    "task_A1 = get_task(\"synthetic\", \"s01\")\n",
    "\n",
    "# task_A2 = get_task(\"training\", \"0b148d64\")\n",
    "task_A2 = get_task(\"training\", \"9af7a82c\")"
   ]
  },
  {
   "cell_type": "code",
   "execution_count": 7,
   "metadata": {},
   "outputs": [],
   "source": [
    "iterations = 1000\n",
    "max_invalid_trials = 100\n",
    "max_incorrect_trials = 10"
   ]
  },
  {
   "cell_type": "markdown",
   "metadata": {},
   "source": [
    "## Experiment A.1/2 Common"
   ]
  },
  {
   "cell_type": "code",
   "execution_count": 8,
   "metadata": {},
   "outputs": [],
   "source": [
    "def perform_experiment_A12(kit, tsk, make_solver, iterations):\n",
    "    fts = []\n",
    "    inv_sizes = []\n",
    "    successes = 0\n",
    "\n",
    "    for i in range(iterations):\n",
    "        inventory = Inventory(kit=kit)\n",
    "        orig_inv_size = inventory.get_n_genotypes()\n",
    "        solver = make_solver(inventory)\n",
    "        h = solver.study_train_task(tsk)\n",
    "        if h and h.test(tsk.get_tests(), tsk.get_solutions()):\n",
    "            fts.append(solver.get_fts())\n",
    "            successes += 1\n",
    "        inv_sizes.append(inventory.get_n_genotypes() / orig_inv_size)\n",
    "        print(f'iteration: {i+1}, inventory size: {inventory.get_n_primitives()}/{inventory.get_n_genotypes()}, success: {successes}/{iterations}', end='\\r')\n",
    "\n",
    "    \n",
    "    avg_fts = (sum(fts) / len(fts)) if len(fts) else None\n",
    "    avg_rel_inv_size = sum(inv_sizes) / len(inv_sizes)\n",
    "\n",
    "    return {'n_successes': successes, 'avg_fts': avg_fts, 'avg_rel_inv_size': avg_rel_inv_size}\n",
    "\n",
    "\n",
    "def interpret_A12_results(results):\n",
    "    print('\\nResults:')\n",
    "    for result in results:\n",
    "        print(result)"
   ]
  },
  {
   "cell_type": "markdown",
   "metadata": {},
   "source": [
    "## Experiment A.1"
   ]
  },
  {
   "cell_type": "markdown",
   "metadata": {},
   "source": [
    "### Experiment A.1.a"
   ]
  },
  {
   "cell_type": "code",
   "execution_count": 9,
   "metadata": {},
   "outputs": [
    {
     "name": "stdout",
     "output_type": "stream",
     "text": [
      "kit 0/32:\n",
      "iteration: 1000, inventory size: 5/6, success: 1000/1000\n",
      "kit 1/32:\n",
      "iteration: 1000, inventory size: 6/7, success: 698/1000\n",
      "kit 2/32:\n",
      "iteration: 1000, inventory size: 7/8, success: 705/1000\n",
      "kit 3/32:\n",
      "iteration: 1000, inventory size: 8/9, success: 696/1000\n",
      "kit 4/32:\n",
      "iteration: 1000, inventory size: 9/11, success: 693/1000\n",
      "kit 5/32:\n",
      "iteration: 1000, inventory size: 10/11, success: 635/1000\n",
      "kit 6/32:\n",
      "iteration: 1000, inventory size: 11/12, success: 665/1000\n",
      "kit 7/32:\n",
      "iteration: 1000, inventory size: 12/15, success: 647/1000\n",
      "kit 8/32:\n",
      "iteration: 1000, inventory size: 13/14, success: 656/1000\n",
      "kit 9/32:\n",
      "iteration: 1000, inventory size: 14/15, success: 676/1000\n",
      "kit 10/32:\n",
      "iteration: 1000, inventory size: 15/16, success: 661/1000\n",
      "kit 11/32:\n",
      "iteration: 1000, inventory size: 16/17, success: 648/1000\n",
      "kit 12/32:\n",
      "iteration: 1000, inventory size: 17/18, success: 652/1000\n",
      "kit 13/32:\n",
      "iteration: 1000, inventory size: 18/20, success: 652/1000\n",
      "kit 14/32:\n",
      "iteration: 1000, inventory size: 19/20, success: 652/1000\n",
      "kit 15/32:\n",
      "iteration: 1000, inventory size: 20/21, success: 698/1000\n",
      "kit 16/32:\n",
      "iteration: 1000, inventory size: 21/23, success: 689/1000\n",
      "kit 17/32:\n",
      "iteration: 1000, inventory size: 22/23, success: 730/1000\n",
      "kit 18/32:\n",
      "iteration: 1000, inventory size: 23/24, success: 540/1000\n",
      "kit 19/32:\n",
      "iteration: 1000, inventory size: 24/25, success: 559/1000\n",
      "kit 20/32:\n",
      "iteration: 1000, inventory size: 25/26, success: 383/1000\n",
      "kit 21/32:\n",
      "iteration: 1000, inventory size: 26/27, success: 352/1000\n",
      "kit 22/32:\n",
      "iteration: 1000, inventory size: 27/31, success: 214/1000\n",
      "kit 23/32:\n",
      "iteration: 1000, inventory size: 28/29, success: 197/1000\n",
      "kit 24/32:\n",
      "iteration: 1000, inventory size: 29/31, success: 216/1000\n",
      "kit 25/32:\n",
      "iteration: 1000, inventory size: 30/31, success: 0/1000\n",
      "kit 26/32:\n",
      "iteration: 1000, inventory size: 31/33, success: 0/1000\n",
      "kit 27/32:\n",
      "iteration: 1000, inventory size: 32/33, success: 0/1000\n",
      "kit 28/32:\n",
      "iteration: 1000, inventory size: 33/35, success: 0/1000\n",
      "kit 29/32:\n",
      "iteration: 1000, inventory size: 34/35, success: 0/1000\n",
      "kit 30/32:\n",
      "iteration: 1000, inventory size: 35/36, success: 0/1000\n",
      "kit 31/32:\n",
      "iteration: 1000, inventory size: 36/38, success: 0/1000\n",
      "\n",
      "Results:\n",
      "{'n_successes': 1000, 'avg_fts': 0.0, 'avg_rel_inv_size': 1.2000000000000226}\n",
      "{'n_successes': 698, 'avg_fts': 1.1934097421203438, 'avg_rel_inv_size': 1.221333333333331}\n",
      "{'n_successes': 705, 'avg_fts': 1.4382978723404256, 'avg_rel_inv_size': 1.1938571428571363}\n",
      "{'n_successes': 696, 'avg_fts': 1.271551724137931, 'avg_rel_inv_size': 1.165375}\n",
      "{'n_successes': 693, 'avg_fts': 1.2886002886002885, 'avg_rel_inv_size': 1.1484444444444248}\n",
      "{'n_successes': 635, 'avg_fts': 1.0503937007874016, 'avg_rel_inv_size': 1.1253000000000084}\n",
      "{'n_successes': 665, 'avg_fts': 1.132330827067669, 'avg_rel_inv_size': 1.1149090909090886}\n",
      "{'n_successes': 647, 'avg_fts': 0.9721792890262752, 'avg_rel_inv_size': 1.1019166666666709}\n",
      "{'n_successes': 656, 'avg_fts': 1.0365853658536586, 'avg_rel_inv_size': 1.0951538461538592}\n",
      "{'n_successes': 676, 'avg_fts': 0.9556213017751479, 'avg_rel_inv_size': 1.0895714285714229}\n",
      "{'n_successes': 661, 'avg_fts': 1.0605143721633887, 'avg_rel_inv_size': 1.083600000000016}\n",
      "{'n_successes': 648, 'avg_fts': 1.0632716049382716, 'avg_rel_inv_size': 1.07975}\n",
      "{'n_successes': 652, 'avg_fts': 1.1825153374233128, 'avg_rel_inv_size': 1.0754117647058627}\n",
      "{'n_successes': 652, 'avg_fts': 1.0030674846625767, 'avg_rel_inv_size': 1.0692222222222134}\n",
      "{'n_successes': 652, 'avg_fts': 1.366564417177914, 'avg_rel_inv_size': 1.0674736842105241}\n",
      "{'n_successes': 698, 'avg_fts': 0.7621776504297995, 'avg_rel_inv_size': 1.0589999999999855}\n",
      "{'n_successes': 689, 'avg_fts': 0.7750362844702468, 'avg_rel_inv_size': 1.056190476190466}\n",
      "{'n_successes': 730, 'avg_fts': 0.6794520547945205, 'avg_rel_inv_size': 1.0523636363636215}\n",
      "{'n_successes': 540, 'avg_fts': 1.0574074074074074, 'avg_rel_inv_size': 1.0541739130434962}\n",
      "{'n_successes': 559, 'avg_fts': 1.0107334525939178, 'avg_rel_inv_size': 1.0520416666666603}\n",
      "{'n_successes': 383, 'avg_fts': 1.7049608355091384, 'avg_rel_inv_size': 1.0595599999999956}\n",
      "{'n_successes': 352, 'avg_fts': 1.9715909090909092, 'avg_rel_inv_size': 1.0612692307692384}\n",
      "{'n_successes': 214, 'avg_fts': 3.5186915887850465, 'avg_rel_inv_size': 1.0985925925925812}\n",
      "{'n_successes': 197, 'avg_fts': 3.2436548223350252, 'avg_rel_inv_size': 1.0957142857142892}\n",
      "{'n_successes': 216, 'avg_fts': 3.6018518518518516, 'avg_rel_inv_size': 1.0938275862069091}\n",
      "{'n_successes': 0, 'avg_fts': None, 'avg_rel_inv_size': 1.0505666666666695}\n",
      "{'n_successes': 0, 'avg_fts': None, 'avg_rel_inv_size': 1.0496774193548424}\n",
      "{'n_successes': 0, 'avg_fts': None, 'avg_rel_inv_size': 1.0476875}\n",
      "{'n_successes': 0, 'avg_fts': None, 'avg_rel_inv_size': 1.0466363636363423}\n",
      "{'n_successes': 0, 'avg_fts': None, 'avg_rel_inv_size': 1.0465588235293928}\n",
      "{'n_successes': 0, 'avg_fts': None, 'avg_rel_inv_size': 1.0428857142857213}\n",
      "{'n_successes': 0, 'avg_fts': None, 'avg_rel_inv_size': 1.0408333333333462}\n"
     ]
    }
   ],
   "source": [
    "def make_solver_A1a(inventory):\n",
    "    return BlindRandomFixedShapeSolver(\n",
    "        inventory, \n",
    "        fixed_depth=1, \n",
    "        fixed_shape=(1, 1, 2, 1), \n",
    "        max_invalid_trials=max_invalid_trials, \n",
    "        max_incorrect_trials=max_incorrect_trials)\n",
    "\n",
    "# Test agains Kit size\n",
    "\n",
    "results = []\n",
    "for i, kit in enumerate(kits):\n",
    "    print(f'kit {i}/{len(kits)}:')\n",
    "    results.append(perform_experiment_A12(kit, task_A1, make_solver_A1a, iterations=iterations))\n",
    "    print('')\n",
    "\n",
    "interpret_A12_results(results)\n",
    "\n",
    "avg_fts = [d['avg_fts'] for d in results]\n",
    "success_rate = [d['n_successes']/iterations for d in results]\n",
    "avg_rel_inv_size = [d['avg_rel_inv_size'] for d in results]\n",
    "\n"
   ]
  },
  {
   "cell_type": "code",
   "execution_count": 10,
   "metadata": {},
   "outputs": [
    {
     "data": {
      "text/plain": [
       "Text(0.5, 0, 'Extra/Non-essential Primitives in DSL')"
      ]
     },
     "execution_count": 10,
     "metadata": {},
     "output_type": "execute_result"
    },
    {
     "data": {
      "image/png": "[encoded data removed]",
      "text/plain": [
       "<Figure size 576x432 with 3 Axes>"
      ]
     },
     "metadata": {
      "needs_background": "light"
     },
     "output_type": "display_data"
    }
   ],
   "source": [
    "\n",
    "plt.figure(figsize=(8,6))\n",
    "\n",
    "plt.subplot(3, 1, 1)\n",
    "plt.title('Experiment A1a: KPIs against growth of Primitives Kit')\n",
    "plt.plot(success_rate,)\n",
    "plt.ylabel('Success Rate')\n",
    "plt.tick_params(axis='x', which='both', bottom=False, top=False, labelbottom=False)\n",
    "\n",
    "plt.subplot(3, 1, 2)\n",
    "plt.plot(avg_fts, )\n",
    "plt.ylabel('Avg Fails to Success')\n",
    "plt.tick_params(axis='x', which='both', bottom=False, top=False, labelbottom=False)\n",
    "\n",
    "plt.subplot(3, 1, 3)\n",
    "plt.plot(avg_rel_inv_size, )\n",
    "plt.ylabel('Avg Inventory Size')\n",
    "plt.xlabel('Extra/Non-essential Primitives in DSL')"
   ]
  },
  {
   "cell_type": "markdown",
   "metadata": {},
   "source": [
    "### Experiment A.1.b"
   ]
  },
  {
   "cell_type": "code",
   "execution_count": 9,
   "metadata": {},
   "outputs": [],
   "source": [
    "def make_solver_A1b(max_depth, max_size):\n",
    "    return lambda inventory: BlindRandomGrowingShapeSolver(\n",
    "        inventory, \n",
    "        max_depth=max_depth, \n",
    "        max_size=max_size, \n",
    "        max_invalid_trials=max_invalid_trials, \n",
    "        max_incorrect_trials=max_incorrect_trials)\n",
    "\n",
    "avg_size = 5\n",
    "avg_depth = 5\n",
    "size_range = range(1, 20)\n",
    "depth_range = range(1, 20)"
   ]
  },
  {
   "cell_type": "code",
   "execution_count": 15,
   "metadata": {},
   "outputs": [
    {
     "name": "stdout",
     "output_type": "stream",
     "text": [
      "Depth 1/19:\n",
      "iteration: 1000, inventory size: 13/14, success: 223/1000\n",
      "Depth 2/19:\n",
      "iteration: 1000, inventory size: 13/16, success: 213/1000\n",
      "Depth 3/19:\n",
      "iteration: 1000, inventory size: 13/15, success: 240/1000\n",
      "Depth 4/19:\n",
      "iteration: 1000, inventory size: 13/15, success: 214/1000\n",
      "Depth 5/19:\n",
      "iteration: 1000, inventory size: 13/14, success: 208/1000\n",
      "Depth 6/19:\n",
      "iteration: 1000, inventory size: 13/14, success: 235/1000\n",
      "Depth 7/19:\n",
      "iteration: 1000, inventory size: 13/14, success: 209/1000\n",
      "Depth 8/19:\n",
      "iteration: 1000, inventory size: 13/16, success: 214/1000\n",
      "Depth 9/19:\n",
      "iteration: 1000, inventory size: 13/15, success: 223/1000\n",
      "Depth 10/19:\n",
      "iteration: 1000, inventory size: 13/15, success: 215/1000\n",
      "Depth 11/19:\n",
      "iteration: 1000, inventory size: 13/14, success: 220/1000\n",
      "Depth 12/19:\n",
      "iteration: 1000, inventory size: 13/14, success: 214/1000\n",
      "Depth 13/19:\n",
      "iteration: 1000, inventory size: 13/15, success: 208/1000\n",
      "Depth 14/19:\n",
      "iteration: 1000, inventory size: 13/14, success: 203/1000\n",
      "Depth 15/19:\n",
      "iteration: 1000, inventory size: 13/14, success: 235/1000\n",
      "Depth 16/19:\n",
      "iteration: 1000, inventory size: 13/14, success: 230/1000\n",
      "Depth 17/19:\n",
      "iteration: 1000, inventory size: 13/15, success: 178/1000\n",
      "Depth 18/19:\n",
      "iteration: 1000, inventory size: 13/16, success: 221/1000\n",
      "Depth 19/19:\n",
      "iteration: 1000, inventory size: 13/15, success: 195/1000\n",
      "\n",
      "Results:\n",
      "{'n_successes': 223, 'avg_fts': 2.7937219730941703, 'avg_rel_inv_size': 1.1382307692307845}\n",
      "{'n_successes': 213, 'avg_fts': 2.3145539906103285, 'avg_rel_inv_size': 1.1401538461538612}\n",
      "{'n_successes': 240, 'avg_fts': 2.25, 'avg_rel_inv_size': 1.140153846153861}\n",
      "{'n_successes': 214, 'avg_fts': 2.2149532710280373, 'avg_rel_inv_size': 1.1430769230769384}\n",
      "{'n_successes': 208, 'avg_fts': 2.451923076923077, 'avg_rel_inv_size': 1.1395384615384756}\n",
      "{'n_successes': 235, 'avg_fts': 2.523404255319149, 'avg_rel_inv_size': 1.1423846153846298}\n",
      "{'n_successes': 209, 'avg_fts': 2.4976076555023923, 'avg_rel_inv_size': 1.1421538461538612}\n",
      "{'n_successes': 214, 'avg_fts': 2.696261682242991, 'avg_rel_inv_size': 1.1456923076923227}\n",
      "{'n_successes': 223, 'avg_fts': 2.766816143497758, 'avg_rel_inv_size': 1.1437692307692464}\n",
      "{'n_successes': 215, 'avg_fts': 2.730232558139535, 'avg_rel_inv_size': 1.1423846153846307}\n",
      "{'n_successes': 220, 'avg_fts': 2.7590909090909093, 'avg_rel_inv_size': 1.1419230769230924}\n",
      "{'n_successes': 214, 'avg_fts': 2.9813084112149535, 'avg_rel_inv_size': 1.1410000000000156}\n",
      "{'n_successes': 208, 'avg_fts': 2.6298076923076925, 'avg_rel_inv_size': 1.1386923076923228}\n",
      "{'n_successes': 203, 'avg_fts': 2.7980295566502464, 'avg_rel_inv_size': 1.1402307692307843}\n",
      "{'n_successes': 235, 'avg_fts': 2.8553191489361702, 'avg_rel_inv_size': 1.1400000000000157}\n",
      "{'n_successes': 230, 'avg_fts': 3.2869565217391306, 'avg_rel_inv_size': 1.1398461538461686}\n",
      "{'n_successes': 178, 'avg_fts': 2.8707865168539324, 'avg_rel_inv_size': 1.1352307692307844}\n",
      "{'n_successes': 221, 'avg_fts': 2.6877828054298645, 'avg_rel_inv_size': 1.1366153846153995}\n",
      "{'n_successes': 195, 'avg_fts': 2.6102564102564103, 'avg_rel_inv_size': 1.1374615384615532}\n"
     ]
    },
    {
     "data": {
      "text/plain": [
       "Text(0.5, 0, 'Graph Depth')"
      ]
     },
     "execution_count": 15,
     "metadata": {},
     "output_type": "execute_result"
    },
    {
     "data": {
      "image/png": "[encoded data removed]",
      "text/plain": [
       "<Figure size 576x432 with 3 Axes>"
      ]
     },
     "metadata": {
      "needs_background": "light"
     },
     "output_type": "display_data"
    }
   ],
   "source": [
    "# Test against depth\n",
    "\n",
    "results = []\n",
    "for depth in depth_range:\n",
    "    print(f'Depth {depth}/{len(depth_range)}:')\n",
    "    results.append(\n",
    "        perform_experiment_A12(PrimitivesKit, task_A1, make_solver_A1b(max_depth=depth, max_size=avg_size) , iterations=iterations))\n",
    "    print('')\n",
    "\n",
    "interpret_A12_results(results)\n",
    "\n",
    "avg_fts = [d['avg_fts'] for d in results]\n",
    "success_rate = [d['n_successes']/iterations for d in results]\n",
    "avg_rel_inv_size = [d['avg_rel_inv_size'] for d in results]\n",
    "\n",
    "plt.figure(figsize=(8,6))\n",
    "\n",
    "plt.subplot(3, 1, 1)\n",
    "plt.title('Experiment A1b: KPIs against growth of max graph depth')\n",
    "plt.plot(success_rate,)\n",
    "plt.ylabel('Success Rate')\n",
    "plt.tick_params(axis='x', which='both', bottom=False, top=False, labelbottom=False)\n",
    "\n",
    "plt.subplot(3, 1, 2)\n",
    "plt.plot(avg_fts, )\n",
    "plt.ylabel('Avg Fails to Success')\n",
    "plt.tick_params(axis='x', which='both', bottom=False, top=False, labelbottom=False)\n",
    "\n",
    "plt.subplot(3, 1, 3)\n",
    "plt.plot(avg_rel_inv_size, )\n",
    "plt.ylabel('Avg Inventory Size')\n",
    "plt.xlabel('Graph Depth')\n"
   ]
  },
  {
   "cell_type": "code",
   "execution_count": 12,
   "metadata": {},
   "outputs": [],
   "source": [
    "iterations = 250\n",
    "max_invalid_trials = 100\n",
    "max_incorrect_trials = 10\n",
    "avg_size = 5\n",
    "avg_depth = 5\n",
    "size_range = range(1, 20)\n",
    "depth_range = range(1, 20)"
   ]
  },
  {
   "cell_type": "code",
   "execution_count": 13,
   "metadata": {},
   "outputs": [
    {
     "name": "stdout",
     "output_type": "stream",
     "text": [
      "Size 1/19:\n",
      "iteration: 250, inventory size: 13/13, success: 0/250\n",
      "Size 2/19:\n",
      "iteration: 250, inventory size: 13/14, success: 0/250\n",
      "Size 3/19:\n",
      "iteration: 250, inventory size: 13/15, success: 0/250\n",
      "Size 4/19:\n",
      "iteration: 250, inventory size: 13/15, success: 43/250\n",
      "Size 5/19:\n",
      "iteration: 250, inventory size: 13/14, success: 51/250\n",
      "Size 6/19:\n",
      "iteration: 250, inventory size: 13/14, success: 51/250\n",
      "Size 7/19:\n",
      "iteration: 250, inventory size: 13/15, success: 45/250\n",
      "Size 8/19:\n",
      "iteration: 250, inventory size: 13/14, success: 42/250\n",
      "Size 9/19:\n",
      "iteration: 250, inventory size: 13/15, success: 41/250\n",
      "Size 10/19:\n",
      "iteration: 250, inventory size: 13/15, success: 48/250\n",
      "Size 11/19:\n",
      "iteration: 250, inventory size: 13/15, success: 43/250\n",
      "Size 12/19:\n",
      "iteration: 250, inventory size: 13/14, success: 36/250\n",
      "Size 13/19:\n",
      "iteration: 250, inventory size: 13/15, success: 40/250\n",
      "Size 14/19:\n",
      "iteration: 250, inventory size: 13/14, success: 34/250\n",
      "Size 15/19:\n",
      "iteration: 250, inventory size: 13/15, success: 33/250\n",
      "Size 16/19:\n",
      "iteration: 250, inventory size: 13/14, success: 38/250\n",
      "Size 17/19:\n",
      "iteration: 250, inventory size: 13/16, success: 31/250\n",
      "Size 18/19:\n",
      "iteration: 250, inventory size: 13/14, success: 48/250\n",
      "Size 19/19:\n",
      "iteration: 250, inventory size: 13/15, success: 43/250\n",
      "\n",
      "Results:\n",
      "{'n_successes': 0, 'avg_fts': None, 'avg_rel_inv_size': 1.0}\n",
      "{'n_successes': 0, 'avg_fts': None, 'avg_rel_inv_size': 1.1301538461538454}\n",
      "{'n_successes': 0, 'avg_fts': None, 'avg_rel_inv_size': 1.1372307692307688}\n",
      "{'n_successes': 43, 'avg_fts': 2.395348837209302, 'avg_rel_inv_size': 1.145846153846153}\n",
      "{'n_successes': 51, 'avg_fts': 2.7254901960784315, 'avg_rel_inv_size': 1.1427692307692308}\n",
      "{'n_successes': 51, 'avg_fts': 2.3529411764705883, 'avg_rel_inv_size': 1.135692307692307}\n",
      "{'n_successes': 45, 'avg_fts': 2.311111111111111, 'avg_rel_inv_size': 1.1353846153846159}\n",
      "{'n_successes': 42, 'avg_fts': 1.6666666666666667, 'avg_rel_inv_size': 1.1206153846153835}\n",
      "{'n_successes': 41, 'avg_fts': 1.2926829268292683, 'avg_rel_inv_size': 1.1190769230769222}\n",
      "{'n_successes': 48, 'avg_fts': 1.8125, 'avg_rel_inv_size': 1.1196923076923069}\n",
      "{'n_successes': 43, 'avg_fts': 1.302325581395349, 'avg_rel_inv_size': 1.113846153846153}\n",
      "{'n_successes': 36, 'avg_fts': 2.2777777777777777, 'avg_rel_inv_size': 1.1178461538461537}\n",
      "{'n_successes': 40, 'avg_fts': 1.7, 'avg_rel_inv_size': 1.1092307692307681}\n",
      "{'n_successes': 34, 'avg_fts': 2.1176470588235294, 'avg_rel_inv_size': 1.1089230769230758}\n",
      "{'n_successes': 33, 'avg_fts': 1.878787878787879, 'avg_rel_inv_size': 1.1070769230769215}\n",
      "{'n_successes': 38, 'avg_fts': 1.763157894736842, 'avg_rel_inv_size': 1.1064615384615375}\n",
      "{'n_successes': 31, 'avg_fts': 1.903225806451613, 'avg_rel_inv_size': 1.0996923076923062}\n",
      "{'n_successes': 48, 'avg_fts': 2.3958333333333335, 'avg_rel_inv_size': 1.1043076923076918}\n",
      "{'n_successes': 43, 'avg_fts': 2.3488372093023258, 'avg_rel_inv_size': 1.0996923076923057}\n"
     ]
    },
    {
     "data": {
      "text/plain": [
       "Text(0.5, 0, 'Graph Size')"
      ]
     },
     "execution_count": 13,
     "metadata": {},
     "output_type": "execute_result"
    },
    {
     "data": {
      "image/png": "[encoded data removed]",
      "text/plain": [
       "<Figure size 576x432 with 3 Axes>"
      ]
     },
     "metadata": {
      "needs_background": "light"
     },
     "output_type": "display_data"
    }
   ],
   "source": [
    "# Test against size\n",
    "\n",
    "results = []\n",
    "for size in size_range:\n",
    "    print(f'Size {size}/{len(size_range)}:')\n",
    "    results.append(\n",
    "        perform_experiment_A12(PrimitivesKit, task_A1, make_solver_A1b(max_depth=avg_depth, max_size=size) , iterations=iterations))\n",
    "    print('')\n",
    "\n",
    "interpret_A12_results(results)\n",
    "\n",
    "avg_fts = [d['avg_fts'] for d in results]\n",
    "success_rate = [d['n_successes']/iterations for d in results]\n",
    "avg_rel_inv_size = [d['avg_rel_inv_size'] for d in results]\n",
    "\n",
    "plt.figure(figsize=(8,6))\n",
    "\n",
    "plt.subplot(3, 1, 1)\n",
    "plt.title('Experiment A1b: KPIs against growth of max graph size')\n",
    "plt.plot(success_rate,)\n",
    "plt.ylabel('Success Rate')\n",
    "plt.tick_params(axis='x', which='both', bottom=False, top=False, labelbottom=False)\n",
    "\n",
    "plt.subplot(3, 1, 2)\n",
    "plt.plot(avg_fts, )\n",
    "plt.ylabel('Avg Fails to Success')\n",
    "plt.tick_params(axis='x', which='both', bottom=False, top=False, labelbottom=False)\n",
    "\n",
    "plt.subplot(3, 1, 3)\n",
    "plt.plot(avg_rel_inv_size, )\n",
    "plt.ylabel('Avg Inventory Size')\n",
    "plt.xlabel('Graph Size')\n"
   ]
  },
  {
   "cell_type": "markdown",
   "metadata": {},
   "source": [
    "## Experiment A.2"
   ]
  },
  {
   "cell_type": "markdown",
   "metadata": {},
   "source": [
    "### Experiment A.2.a"
   ]
  },
  {
   "cell_type": "code",
   "execution_count": null,
   "metadata": {},
   "outputs": [],
   "source": [
    "def make_solver_A2a(inventory):\n",
    "    return BlindRandomFixedShapeSolver(inventory, fixed_depth=1, fixed_shape=(1, 1, 2, 1), max_invalid_trials=10, max_incorrect_trials=10)\n",
    "\n",
    "results = perform_experiment_A12(kits, task_A2, make_solver_A2a, iterations=1000)\n",
    "interpret_A12_results(results)"
   ]
  },
  {
   "cell_type": "markdown",
   "metadata": {},
   "source": [
    "### Experiment A.2.b"
   ]
  },
  {
   "cell_type": "code",
   "execution_count": null,
   "metadata": {},
   "outputs": [],
   "source": [
    "def make_solver_A2b(inventory):\n",
    "    return BlindRandomGrowingShapeSolver(inventory, max_depth=5, max_size=10, max_invalid_trials=10, max_incorrect_trials=10)\n",
    "\n",
    "results = perform_experiment_A12(kits, task_A2, make_solver_A2b, iterations=1000)\n",
    "interpret_A12_results(results)"
   ]
  }
 ],
 "metadata": {
  "kernelspec": {
   "display_name": "Python 3.10.4 ('Capstone')",
   "language": "python",
   "name": "python3"
  },
  "language_info": {
   "codemirror_mode": {
    "name": "ipython",
    "version": 3
   },
   "file_extension": ".py",
   "mimetype": "text/x-python",
   "name": "python",
   "nbconvert_exporter": "python",
   "pygments_lexer": "ipython3",
   "version": "3.10.4"
  },
  "orig_nbformat": 4,
  "vscode": {
   "interpreter": {
    "hash": "6f42b4b32473c2dcfdbc29aa82c467684c2f8572d4f7a5ce1682eda2438c8509"
   }
  }
 },
 "nbformat": 4,
 "nbformat_minor": 2
}
